{
  "cells": [
    {
      "cell_type": "code",
      "execution_count": 1,
      "metadata": {
        "id": "ap5DCraZ71Hw"
      },
      "outputs": [],
      "source": [
        "import requests\n",
        "import zipfile\n",
        "import io\n",
        "import scipy.io\n",
        "import tempfile\n",
        "import splitfolders \n",
        "import shutil\n",
        "import random\n",
        "\n",
        "import os\n",
        "import numpy as np\n",
        "import matplotlib.pyplot as plt\n",
        "import cv2"
      ]
    },
    {
      "cell_type": "markdown",
      "metadata": {
        "id": "jRdVIyWKulZC"
      },
      "source": [
        "# Loading dataset"
      ]
    },
    {
      "cell_type": "markdown",
      "metadata": {},
      "source": [
        "If you only downloaded the notebook without the dataset run the following two blocks:"
      ]
    },
    {
      "cell_type": "code",
      "execution_count": 3,
      "metadata": {
        "id": "brdph7lIuhx2"
      },
      "outputs": [],
      "source": [
        "if not os.path.isdir('./images'):\n",
        "    url = \"https://github.com/HenriqueDSousa/pix2pix/raw/main/dataset/images_dataset.zip\"\n",
        "\n",
        "    os.makedirs(\"./images\", exist_ok=True)\n",
        "    response = requests.get(url)\n",
        "    response.raise_for_status()\n",
        "\n",
        "    # Unzip the file\n",
        "    with zipfile.ZipFile(io.BytesIO(response.content)) as zip_ref:\n",
        "        zip_ref.extractall(\"./images\")\n"
      ]
    },
    {
      "cell_type": "markdown",
      "metadata": {},
      "source": [
        "### Extracting files"
      ]
    },
    {
      "cell_type": "markdown",
      "metadata": {},
      "source": [
        "Selecting all images and spliting them into train, test and validation. The output will be on *image_data* directory. "
      ]
    },
    {
      "cell_type": "code",
      "execution_count": 5,
      "metadata": {},
      "outputs": [],
      "source": [
        "def split_images(source_dir, train_dir, test_dir, train_ratio=0.8):\n",
        "    \n",
        "    os.makedirs(train_dir, exist_ok=True)\n",
        "    os.makedirs(test_dir, exist_ok=True)\n",
        "\n",
        "    image_files = [f for f in os.listdir(source_dir) if f.lower().endswith(('.png', '.jpg', '.jpeg'))]\n",
        "\n",
        "    random.shuffle(image_files)\n",
        "\n",
        "    split_index = int(train_ratio * len(image_files))\n",
        "\n",
        "    train_files = image_files[:split_index]\n",
        "    test_files = image_files[split_index:]\n",
        "\n",
        "    for file in train_files:\n",
        "        shutil.copy2(os.path.join(source_dir, file), os.path.join(train_dir, file))\n",
        "\n",
        "    # Copy the testing files\n",
        "    for file in test_files:\n",
        "        shutil.copy2(os.path.join(source_dir, file), os.path.join(test_dir, file))\n"
      ]
    },
    {
      "cell_type": "code",
      "execution_count": 6,
      "metadata": {},
      "outputs": [],
      "source": [
        "source_dir = 'images/images_dataset'  \n",
        "train_dir = 'images/train_images'  \n",
        "test_dir = 'images/test_images'  \n",
        "\n",
        "if not os.path.isdir('images/train_images') or not os.path.isdir('images/test_images'):\n",
        "    split_images(source_dir, train_dir, test_dir, train_ratio=0.8)"
      ]
    },
    {
      "cell_type": "markdown",
      "metadata": {
        "id": "I5ra1RvjjBjm"
      },
      "source": [
        "## Images"
      ]
    },
    {
      "cell_type": "code",
      "execution_count": null,
      "metadata": {},
      "outputs": [],
      "source": [
        "\n"
      ]
    }
  ],
  "metadata": {
    "colab": {
      "provenance": []
    },
    "kernelspec": {
      "display_name": "Python 3",
      "name": "python3"
    },
    "language_info": {
      "codemirror_mode": {
        "name": "ipython",
        "version": 3
      },
      "file_extension": ".py",
      "mimetype": "text/x-python",
      "name": "python",
      "nbconvert_exporter": "python",
      "pygments_lexer": "ipython3",
      "version": "3.10.6"
    }
  },
  "nbformat": 4,
  "nbformat_minor": 0
}
