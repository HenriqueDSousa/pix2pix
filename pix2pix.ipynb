{
  "nbformat": 4,
  "nbformat_minor": 0,
  "metadata": {
    "colab": {
      "provenance": []
    },
    "kernelspec": {
      "name": "python3",
      "display_name": "Python 3"
    },
    "language_info": {
      "name": "python"
    }
  },
  "cells": [
    {
      "cell_type": "code",
      "execution_count": 1,
      "metadata": {
        "id": "ap5DCraZ71Hw"
      },
      "outputs": [],
      "source": [
        "import requests\n",
        "import zipfile\n",
        "import io\n",
        "import scipy.io\n",
        "\n",
        "import numpy as np\n",
        "import matplotlib.pyplot as plt"
      ]
    },
    {
      "cell_type": "markdown",
      "source": [
        "# Loading dataset"
      ],
      "metadata": {
        "id": "jRdVIyWKulZC"
      }
    },
    {
      "cell_type": "code",
      "source": [
        "url = \"https://github.com/HenriqueDSousa/pix2pix/raw/main/dataset/ut-zap50k-data.zip?download=\"\n",
        "\n",
        "response = requests.get(url)\n",
        "response.raise_for_status()\n",
        "\n",
        "# Unzip the file\n",
        "with zipfile.ZipFile(io.BytesIO(response.content)) as zip_ref:\n",
        "    zip_ref.extractall(\"/content\")\n"
      ],
      "metadata": {
        "id": "brdph7lIuhx2"
      },
      "execution_count": 2,
      "outputs": []
    },
    {
      "cell_type": "code",
      "source": [
        "mat_file_path = '/content/ut-zap50k-data/image-path.mat'\n",
        "mat_contents = scipy.io.loadmat(mat_file_path)\n",
        "\n",
        "# Print the keys in the mat_contents dictionary\n",
        "print(mat_contents.keys())\n",
        "\n",
        "\n",
        "print(mat_contents)"
      ],
      "metadata": {
        "colab": {
          "base_uri": "https://localhost:8080/"
        },
        "id": "rjws_NuLvQPM",
        "outputId": "5c9a3244-69aa-4ebc-8469-8e9f63a477e5"
      },
      "execution_count": 3,
      "outputs": [
        {
          "output_type": "stream",
          "name": "stdout",
          "text": [
            "dict_keys(['__header__', '__version__', '__globals__', 'imagepath'])\n",
            "{'__header__': b'MATLAB 5.0 MAT-file, Platform: PCWIN64, Created on: Wed Apr 16 14:01:17 2014', '__version__': '1.0', '__globals__': [], 'imagepath': array([[array(['Shoes/Oxfords/Bostonian/100627.72.jpg'], dtype='<U37')],\n",
            "       [array(['Shoes/Oxfords/Bostonian/100627.255.jpg'], dtype='<U38')],\n",
            "       [array(['Shoes/Oxfords/Bostonian/100657.72.jpg'], dtype='<U37')],\n",
            "       ...,\n",
            "       [array(['Shoes/Heels/J. Renee/8168300.57113.jpg'], dtype='<U38')],\n",
            "       [array(['Shoes/Heels/J. Renee/8168300.384413.jpg'], dtype='<U39')],\n",
            "       [array(['Shoes/Sneakers and Athletic Shoes/Travis Mathew/8169712.2557.jpg'],\n",
            "              dtype='<U64')                                                        ]],\n",
            "      dtype=object)}\n"
          ]
        }
      ]
    },
    {
      "cell_type": "markdown",
      "source": [
        "## Images"
      ],
      "metadata": {
        "id": "I5ra1RvjjBjm"
      }
    },
    {
      "cell_type": "code",
      "source": [
        "url = \"https://github.com/HenriqueDSousa/pix2pix/raw/main/dataset/ut-zap50k-images.zip?download=\"\n",
        "\n",
        "response = requests.get(url)\n",
        "response.raise_for_status()\n",
        "\n",
        "# Unzip the file\n",
        "with zipfile.ZipFile(io.BytesIO(response.content)) as zip_ref:\n",
        "    zip_ref.extractall(\"/content\")\n"
      ],
      "metadata": {
        "id": "exhRfD9HyK0K"
      },
      "execution_count": 4,
      "outputs": []
    },
    {
      "cell_type": "code",
      "source": [],
      "metadata": {
        "id": "FZhVYqBAjSnc"
      },
      "execution_count": null,
      "outputs": []
    }
  ]
}